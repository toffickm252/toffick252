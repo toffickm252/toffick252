{
 "cells": [
  {
   "cell_type": "markdown",
   "metadata": {},
   "source": [
    "# Using predictive Analysis to diagnose Breast tumor\n",
    "  By Mohammed Toffick\n",
    "  \n",
    "## 1- Problem Identification\n",
    "Breast cancer can occur in women and rarely in men.\n",
    "Symptoms of breast cancer include a lump in the breast, bloody discharge from the nipple and changes in the shape or texture of the nipple or breast.Treatment depends on the stage of cancer. It may consist of chemotherapy, radiation and surgery.\n",
    "### 1.1 Expected outcome\n",
    "The expected outcome of this analysis is predict if the state of the breast tumor is malignant (Cancerous) or Beningn (non-Cancerous). The target for the model is categorical.\n",
    "1- Malignant\n",
    "0- Benign\n",
    "### 1.2 Objective \n",
    "Main objective is to predict if the tumor is in the malignant or benign stage. This problem therefore can be solved with classification algorithmn. \n",
    "### 1.3 Datasource\n",
    "Data was obtained from kaggle.com \n",
    "\n",
    "## Importing necessary libraries"
   ]
  },
  {
   "cell_type": "code",
   "execution_count": 1,
   "metadata": {},
   "outputs": [],
   "source": [
    "import numpy as np\n",
    "import pandas as pd\n",
    "import matplotlib.pyplot as plt\n",
    "import seaborn as sns\n",
    "%matplotlib inline"
   ]
  },
  {
   "cell_type": "markdown",
   "metadata": {},
   "source": [
    "These libraries will help in manipulation and importing of the dataset and helps with exploratory data analysis\n"
   ]
  },
  {
   "cell_type": "markdown",
   "metadata": {},
   "source": [
    "### Loading the dataset \n",
    "The data is loaded as a csv file with the help of pandas read_csv\n",
    "\n",
    "### Inspecting the data\n",
    "\n",
    "1-You check the first few rows of the dataset - you have a feel of the dataset\n",
    "\n",
    "2-Checking the shape of the dataset - help us know the total rows and columns\n",
    "\n",
    "3-The description of the dataset - summarizes the statistics of the dataset, by showig the count, mean, max etc"
   ]
  },
  {
   "cell_type": "code",
   "execution_count": 2,
   "metadata": {},
   "outputs": [
    {
     "data": {
      "text/html": [
       "<div>\n",
       "<style scoped>\n",
       "    .dataframe tbody tr th:only-of-type {\n",
       "        vertical-align: middle;\n",
       "    }\n",
       "\n",
       "    .dataframe tbody tr th {\n",
       "        vertical-align: top;\n",
       "    }\n",
       "\n",
       "    .dataframe thead th {\n",
       "        text-align: right;\n",
       "    }\n",
       "</style>\n",
       "<table border=\"1\" class=\"dataframe\">\n",
       "  <thead>\n",
       "    <tr style=\"text-align: right;\">\n",
       "      <th></th>\n",
       "      <th>mean_radius</th>\n",
       "      <th>mean_texture</th>\n",
       "      <th>mean_perimeter</th>\n",
       "      <th>mean_area</th>\n",
       "      <th>mean_smoothness</th>\n",
       "      <th>diagnosis</th>\n",
       "    </tr>\n",
       "  </thead>\n",
       "  <tbody>\n",
       "    <tr>\n",
       "      <td>0</td>\n",
       "      <td>17.99</td>\n",
       "      <td>10.38</td>\n",
       "      <td>122.80</td>\n",
       "      <td>1001.0</td>\n",
       "      <td>0.11840</td>\n",
       "      <td>0</td>\n",
       "    </tr>\n",
       "    <tr>\n",
       "      <td>1</td>\n",
       "      <td>20.57</td>\n",
       "      <td>17.77</td>\n",
       "      <td>132.90</td>\n",
       "      <td>1326.0</td>\n",
       "      <td>0.08474</td>\n",
       "      <td>0</td>\n",
       "    </tr>\n",
       "    <tr>\n",
       "      <td>2</td>\n",
       "      <td>19.69</td>\n",
       "      <td>21.25</td>\n",
       "      <td>130.00</td>\n",
       "      <td>1203.0</td>\n",
       "      <td>0.10960</td>\n",
       "      <td>0</td>\n",
       "    </tr>\n",
       "    <tr>\n",
       "      <td>3</td>\n",
       "      <td>11.42</td>\n",
       "      <td>20.38</td>\n",
       "      <td>77.58</td>\n",
       "      <td>386.1</td>\n",
       "      <td>0.14250</td>\n",
       "      <td>0</td>\n",
       "    </tr>\n",
       "    <tr>\n",
       "      <td>4</td>\n",
       "      <td>20.29</td>\n",
       "      <td>14.34</td>\n",
       "      <td>135.10</td>\n",
       "      <td>1297.0</td>\n",
       "      <td>0.10030</td>\n",
       "      <td>0</td>\n",
       "    </tr>\n",
       "  </tbody>\n",
       "</table>\n",
       "</div>"
      ],
      "text/plain": [
       "   mean_radius  mean_texture  mean_perimeter  mean_area  mean_smoothness  \\\n",
       "0        17.99         10.38          122.80     1001.0          0.11840   \n",
       "1        20.57         17.77          132.90     1326.0          0.08474   \n",
       "2        19.69         21.25          130.00     1203.0          0.10960   \n",
       "3        11.42         20.38           77.58      386.1          0.14250   \n",
       "4        20.29         14.34          135.10     1297.0          0.10030   \n",
       "\n",
       "   diagnosis  \n",
       "0          0  \n",
       "1          0  \n",
       "2          0  \n",
       "3          0  \n",
       "4          0  "
      ]
     },
     "execution_count": 2,
     "metadata": {},
     "output_type": "execute_result"
    }
   ],
   "source": [
    "df=pd.read_csv(\"C:\\\\Users\\\\Person\\\\Documents\\\\GitHub\\\\Breast-tumor-predictive-analysis\\\\data\\\\Breast_cancer_data.csv\")\n",
    "df.head()"
   ]
  },
  {
   "cell_type": "code",
   "execution_count": 3,
   "metadata": {},
   "outputs": [
    {
     "data": {
      "text/plain": [
       "(569, 6)"
      ]
     },
     "execution_count": 3,
     "metadata": {},
     "output_type": "execute_result"
    }
   ],
   "source": [
    "df.shape"
   ]
  },
  {
   "cell_type": "code",
   "execution_count": 4,
   "metadata": {},
   "outputs": [
    {
     "data": {
      "text/html": [
       "<div>\n",
       "<style scoped>\n",
       "    .dataframe tbody tr th:only-of-type {\n",
       "        vertical-align: middle;\n",
       "    }\n",
       "\n",
       "    .dataframe tbody tr th {\n",
       "        vertical-align: top;\n",
       "    }\n",
       "\n",
       "    .dataframe thead th {\n",
       "        text-align: right;\n",
       "    }\n",
       "</style>\n",
       "<table border=\"1\" class=\"dataframe\">\n",
       "  <thead>\n",
       "    <tr style=\"text-align: right;\">\n",
       "      <th></th>\n",
       "      <th>mean_radius</th>\n",
       "      <th>mean_texture</th>\n",
       "      <th>mean_perimeter</th>\n",
       "      <th>mean_area</th>\n",
       "      <th>mean_smoothness</th>\n",
       "      <th>diagnosis</th>\n",
       "    </tr>\n",
       "  </thead>\n",
       "  <tbody>\n",
       "    <tr>\n",
       "      <td>count</td>\n",
       "      <td>569.000000</td>\n",
       "      <td>569.000000</td>\n",
       "      <td>569.000000</td>\n",
       "      <td>569.000000</td>\n",
       "      <td>569.000000</td>\n",
       "      <td>569.000000</td>\n",
       "    </tr>\n",
       "    <tr>\n",
       "      <td>mean</td>\n",
       "      <td>14.127292</td>\n",
       "      <td>19.289649</td>\n",
       "      <td>91.969033</td>\n",
       "      <td>654.889104</td>\n",
       "      <td>0.096360</td>\n",
       "      <td>0.627417</td>\n",
       "    </tr>\n",
       "    <tr>\n",
       "      <td>std</td>\n",
       "      <td>3.524049</td>\n",
       "      <td>4.301036</td>\n",
       "      <td>24.298981</td>\n",
       "      <td>351.914129</td>\n",
       "      <td>0.014064</td>\n",
       "      <td>0.483918</td>\n",
       "    </tr>\n",
       "    <tr>\n",
       "      <td>min</td>\n",
       "      <td>6.981000</td>\n",
       "      <td>9.710000</td>\n",
       "      <td>43.790000</td>\n",
       "      <td>143.500000</td>\n",
       "      <td>0.052630</td>\n",
       "      <td>0.000000</td>\n",
       "    </tr>\n",
       "    <tr>\n",
       "      <td>25%</td>\n",
       "      <td>11.700000</td>\n",
       "      <td>16.170000</td>\n",
       "      <td>75.170000</td>\n",
       "      <td>420.300000</td>\n",
       "      <td>0.086370</td>\n",
       "      <td>0.000000</td>\n",
       "    </tr>\n",
       "    <tr>\n",
       "      <td>50%</td>\n",
       "      <td>13.370000</td>\n",
       "      <td>18.840000</td>\n",
       "      <td>86.240000</td>\n",
       "      <td>551.100000</td>\n",
       "      <td>0.095870</td>\n",
       "      <td>1.000000</td>\n",
       "    </tr>\n",
       "    <tr>\n",
       "      <td>75%</td>\n",
       "      <td>15.780000</td>\n",
       "      <td>21.800000</td>\n",
       "      <td>104.100000</td>\n",
       "      <td>782.700000</td>\n",
       "      <td>0.105300</td>\n",
       "      <td>1.000000</td>\n",
       "    </tr>\n",
       "    <tr>\n",
       "      <td>max</td>\n",
       "      <td>28.110000</td>\n",
       "      <td>39.280000</td>\n",
       "      <td>188.500000</td>\n",
       "      <td>2501.000000</td>\n",
       "      <td>0.163400</td>\n",
       "      <td>1.000000</td>\n",
       "    </tr>\n",
       "  </tbody>\n",
       "</table>\n",
       "</div>"
      ],
      "text/plain": [
       "       mean_radius  mean_texture  mean_perimeter    mean_area  \\\n",
       "count   569.000000    569.000000      569.000000   569.000000   \n",
       "mean     14.127292     19.289649       91.969033   654.889104   \n",
       "std       3.524049      4.301036       24.298981   351.914129   \n",
       "min       6.981000      9.710000       43.790000   143.500000   \n",
       "25%      11.700000     16.170000       75.170000   420.300000   \n",
       "50%      13.370000     18.840000       86.240000   551.100000   \n",
       "75%      15.780000     21.800000      104.100000   782.700000   \n",
       "max      28.110000     39.280000      188.500000  2501.000000   \n",
       "\n",
       "       mean_smoothness   diagnosis  \n",
       "count       569.000000  569.000000  \n",
       "mean          0.096360    0.627417  \n",
       "std           0.014064    0.483918  \n",
       "min           0.052630    0.000000  \n",
       "25%           0.086370    0.000000  \n",
       "50%           0.095870    1.000000  \n",
       "75%           0.105300    1.000000  \n",
       "max           0.163400    1.000000  "
      ]
     },
     "execution_count": 4,
     "metadata": {},
     "output_type": "execute_result"
    }
   ],
   "source": [
    "df.describe()"
   ]
  },
  {
   "cell_type": "markdown",
   "metadata": {},
   "source": [
    "# 2- Data Cleaning and wrangling\n",
    "Helps to fix all issues that might affect the performance of our model.\n",
    "### Null values detection \n"
   ]
  },
  {
   "cell_type": "code",
   "execution_count": 5,
   "metadata": {},
   "outputs": [
    {
     "data": {
      "text/plain": [
       "mean_radius        0\n",
       "mean_texture       0\n",
       "mean_perimeter     0\n",
       "mean_area          0\n",
       "mean_smoothness    0\n",
       "diagnosis          0\n",
       "dtype: int64"
      ]
     },
     "execution_count": 5,
     "metadata": {},
     "output_type": "execute_result"
    }
   ],
   "source": [
    "df.isnull().sum()"
   ]
  },
  {
   "cell_type": "markdown",
   "metadata": {},
   "source": [
    "### Outiers Detection\n",
    "With the helps of the boxplot visualization method we find the particular column with outliers. \n",
    "An outlier is a value or object that deviates significatly from the whole dataset.\n",
    "\n",
    "So the column bars with the sprouting bubbles, then informs us of outlier availability in that column"
   ]
  },
  {
   "cell_type": "code",
   "execution_count": 6,
   "metadata": {},
   "outputs": [
    {
     "data": {
      "text/plain": [
       "<matplotlib.axes._subplots.AxesSubplot at 0x1be54b3d9c8>"
      ]
     },
     "execution_count": 6,
     "metadata": {},
     "output_type": "execute_result"
    },
    {
     "data": {
      "image/png": "[encoded data removed]",
      "text/plain": [
       "<Figure size 720x720 with 1 Axes>"
      ]
     },
     "metadata": {
      "needs_background": "light"
     },
     "output_type": "display_data"
    }
   ],
   "source": [
    "df.boxplot(figsize=(10,10))"
   ]
  },
  {
   "cell_type": "markdown",
   "metadata": {},
   "source": [
    "According to the analysis above the mean_area column has a number of outliers\n",
    "which needs to be cleared and skewness corrected"
   ]
  },
  {
   "cell_type": "markdown",
   "metadata": {},
   "source": [
    "### Outlier detection, removal or correcting"
   ]
  },
  {
   "cell_type": "code",
   "execution_count": 7,
   "metadata": {},
   "outputs": [
    {
     "data": {
      "text/plain": [
       "1.6457321756240424"
      ]
     },
     "execution_count": 7,
     "metadata": {},
     "output_type": "execute_result"
    }
   ],
   "source": [
    "#Mean_area\n",
    "df['mean_area'].skew()"
   ]
  },
  {
   "cell_type": "code",
   "execution_count": 8,
   "metadata": {},
   "outputs": [
    {
     "data": {
      "text/plain": [
       "<matplotlib.axes._subplots.AxesSubplot at 0x1be54ead508>"
      ]
     },
     "execution_count": 8,
     "metadata": {},
     "output_type": "execute_result"
    },
    {
     "data": {
      "image/png": "[encoded data removed]",
      "text/plain": [
       "<Figure size 432x288 with 1 Axes>"
      ]
     },
     "metadata": {
      "needs_background": "light"
     },
     "output_type": "display_data"
    }
   ],
   "source": [
    "df['mean_area'].hist()"
   ]
  },
  {
   "cell_type": "markdown",
   "metadata": {},
   "source": [
    "Using log transformation to correct how skewed to the left the histogram is"
   ]
  },
  {
   "cell_type": "code",
   "execution_count": 9,
   "metadata": {},
   "outputs": [
    {
     "name": "stdout",
     "output_type": "stream",
     "text": [
      "0.2849574596767259\n"
     ]
    }
   ],
   "source": [
    "df['mean_area']=np.log(df['mean_area'])\n",
    "print(df['mean_area'].skew())"
   ]
  },
  {
   "cell_type": "code",
   "execution_count": 10,
   "metadata": {},
   "outputs": [
    {
     "data": {
      "text/plain": [
       "<matplotlib.axes._subplots.AxesSubplot at 0x1be54c95c48>"
      ]
     },
     "execution_count": 10,
     "metadata": {},
     "output_type": "execute_result"
    },
    {
     "data": {
      "image/png": "[encoded data removed]",
      "text/plain": [
       "<Figure size 432x288 with 1 Axes>"
      ]
     },
     "metadata": {
      "needs_background": "light"
     },
     "output_type": "display_data"
    }
   ],
   "source": [
    "sns.distplot(df['mean_area'])"
   ]
  },
  {
   "cell_type": "code",
   "execution_count": 11,
   "metadata": {},
   "outputs": [
    {
     "data": {
      "text/plain": [
       "{'whiskers': [<matplotlib.lines.Line2D at 0x1be54e03ec8>,\n",
       "  <matplotlib.lines.Line2D at 0x1be54e03fc8>],\n",
       " 'caps': [<matplotlib.lines.Line2D at 0x1be54e08f08>,\n",
       "  <matplotlib.lines.Line2D at 0x1be54e08fc8>],\n",
       " 'boxes': [<matplotlib.lines.Line2D at 0x1be54e036c8>],\n",
       " 'medians': [<matplotlib.lines.Line2D at 0x1be54e0bfc8>],\n",
       " 'fliers': [<matplotlib.lines.Line2D at 0x1be54e0bf48>],\n",
       " 'means': []}"
      ]
     },
     "execution_count": 11,
     "metadata": {},
     "output_type": "execute_result"
    },
    {
     "data": {
      "image/png": "[encoded data removed]",
      "text/plain": [
       "<Figure size 432x288 with 1 Axes>"
      ]
     },
     "metadata": {
      "needs_background": "light"
     },
     "output_type": "display_data"
    }
   ],
   "source": [
    "plt.boxplot(df['mean_area'])"
   ]
  },
  {
   "cell_type": "markdown",
   "metadata": {},
   "source": [
    "from the boxplot above it clearly shows that most of the outliers have been \n",
    "cleared"
   ]
  },
  {
   "cell_type": "markdown",
   "metadata": {},
   "source": [
    "#### #Changing the diagnosis column to have 1 - Malignant 0 - Benign \n",
    "This will help in the description of the cancer well"
   ]
  },
  {
   "cell_type": "code",
   "execution_count": 12,
   "metadata": {},
   "outputs": [],
   "source": [
    "breast_cancer={1:'Malignant',0:'Benign'}\n",
    "df['diagnosis']=df['diagnosis'].map(breast_cancer)"
   ]
  },
  {
   "cell_type": "code",
   "execution_count": 13,
   "metadata": {},
   "outputs": [
    {
     "data": {
      "text/plain": [
       "0    Benign\n",
       "1    Benign\n",
       "2    Benign\n",
       "3    Benign\n",
       "4    Benign\n",
       "Name: diagnosis, dtype: object"
      ]
     },
     "execution_count": 13,
     "metadata": {},
     "output_type": "execute_result"
    }
   ],
   "source": [
    "df['diagnosis'].head()"
   ]
  },
  {
   "cell_type": "code",
   "execution_count": null,
   "metadata": {},
   "outputs": [],
   "source": []
  },
  {
   "cell_type": "markdown",
   "metadata": {},
   "source": [
    "# 3- Feature Engineering \n",
    "What we are doing at this stage is simply, creating new features from the existing ones.\n",
    "This step will help in better model performance. Commonly doe with addition,substraction etc."
   ]
  },
  {
   "cell_type": "markdown",
   "metadata": {},
   "source": [
    "Creating smoothness per area ratio"
   ]
  },
  {
   "cell_type": "code",
   "execution_count": 14,
   "metadata": {},
   "outputs": [
    {
     "data": {
      "text/plain": [
       "0    58.350969\n",
       "1    84.846851\n",
       "2    64.713264\n",
       "3    41.797168\n",
       "4    71.463701\n",
       "Name: area_smoothness_ratio, dtype: float64"
      ]
     },
     "execution_count": 14,
     "metadata": {},
     "output_type": "execute_result"
    }
   ],
   "source": [
    "df['area_smoothness_ratio']=df['mean_area']/df.mean_smoothness\n",
    "df['area_smoothness_ratio'].head()"
   ]
  },
  {
   "cell_type": "code",
   "execution_count": 15,
   "metadata": {},
   "outputs": [
    {
     "data": {
      "text/plain": [
       "0    17.774549\n",
       "1    18.484206\n",
       "2    18.329031\n",
       "3    13.025310\n",
       "4    18.848158\n",
       "Name: perimeter_texture_ratio, dtype: float64"
      ]
     },
     "execution_count": 15,
     "metadata": {},
     "output_type": "execute_result"
    }
   ],
   "source": [
    "df['perimeter_texture_ratio']=df['mean_perimeter']/df.mean_area\n",
    "df['perimeter_texture_ratio'].head()"
   ]
  },
  {
   "cell_type": "code",
   "execution_count": 16,
   "metadata": {},
   "outputs": [
    {
     "data": {
      "text/plain": [
       "0    1.733141\n",
       "1    1.157569\n",
       "2    0.926588\n",
       "3    0.560353\n",
       "4    1.414923\n",
       "Name: mean_texture_radius_ratio, dtype: float64"
      ]
     },
     "execution_count": 16,
     "metadata": {},
     "output_type": "execute_result"
    }
   ],
   "source": [
    "df['mean_texture_radius_ratio']=df.mean_radius/df.mean_texture\n",
    "df['mean_texture_radius_ratio'].head()"
   ]
  },
  {
   "cell_type": "code",
   "execution_count": 17,
   "metadata": {},
   "outputs": [
    {
     "data": {
      "text/plain": [
       "0    0.146498\n",
       "1    0.154778\n",
       "2    0.151462\n",
       "3    0.147203\n",
       "4    0.150185\n",
       "Name: mean_radius_perimeter_ratio, dtype: float64"
      ]
     },
     "execution_count": 17,
     "metadata": {},
     "output_type": "execute_result"
    }
   ],
   "source": [
    "df['mean_radius_perimeter_ratio']=df.mean_radius/df.mean_perimeter\n",
    "df['mean_radius_perimeter_ratio'].head()"
   ]
  },
  {
   "cell_type": "code",
   "execution_count": 18,
   "metadata": {},
   "outputs": [
    {
     "data": {
      "text/plain": [
       "0    0.146498\n",
       "1    0.154778\n",
       "2    0.151462\n",
       "3    0.147203\n",
       "4    0.150185\n",
       "Name: mean_radius_perimeter_ratio, dtype: float64"
      ]
     },
     "execution_count": 18,
     "metadata": {},
     "output_type": "execute_result"
    }
   ],
   "source": [
    "df['mean_radius_area_ratio']=df.mean_radius/df.mean_area\n",
    "df['mean_radius_perimeter_ratio'].head()"
   ]
  },
  {
   "cell_type": "code",
   "execution_count": 19,
   "metadata": {},
   "outputs": [
    {
     "data": {
      "text/html": [
       "<div>\n",
       "<style scoped>\n",
       "    .dataframe tbody tr th:only-of-type {\n",
       "        vertical-align: middle;\n",
       "    }\n",
       "\n",
       "    .dataframe tbody tr th {\n",
       "        vertical-align: top;\n",
       "    }\n",
       "\n",
       "    .dataframe thead th {\n",
       "        text-align: right;\n",
       "    }\n",
       "</style>\n",
       "<table border=\"1\" class=\"dataframe\">\n",
       "  <thead>\n",
       "    <tr style=\"text-align: right;\">\n",
       "      <th></th>\n",
       "      <th>mean_radius</th>\n",
       "      <th>mean_texture</th>\n",
       "      <th>mean_perimeter</th>\n",
       "      <th>mean_area</th>\n",
       "      <th>mean_smoothness</th>\n",
       "      <th>diagnosis</th>\n",
       "      <th>area_smoothness_ratio</th>\n",
       "      <th>perimeter_texture_ratio</th>\n",
       "      <th>mean_texture_radius_ratio</th>\n",
       "      <th>mean_radius_perimeter_ratio</th>\n",
       "      <th>mean_radius_area_ratio</th>\n",
       "    </tr>\n",
       "  </thead>\n",
       "  <tbody>\n",
       "    <tr>\n",
       "      <td>0</td>\n",
       "      <td>17.99</td>\n",
       "      <td>10.38</td>\n",
       "      <td>122.80</td>\n",
       "      <td>6.908755</td>\n",
       "      <td>0.11840</td>\n",
       "      <td>Benign</td>\n",
       "      <td>58.350969</td>\n",
       "      <td>17.774549</td>\n",
       "      <td>1.733141</td>\n",
       "      <td>0.146498</td>\n",
       "      <td>2.603942</td>\n",
       "    </tr>\n",
       "    <tr>\n",
       "      <td>1</td>\n",
       "      <td>20.57</td>\n",
       "      <td>17.77</td>\n",
       "      <td>132.90</td>\n",
       "      <td>7.189922</td>\n",
       "      <td>0.08474</td>\n",
       "      <td>Benign</td>\n",
       "      <td>84.846851</td>\n",
       "      <td>18.484206</td>\n",
       "      <td>1.157569</td>\n",
       "      <td>0.154778</td>\n",
       "      <td>2.860949</td>\n",
       "    </tr>\n",
       "    <tr>\n",
       "      <td>2</td>\n",
       "      <td>19.69</td>\n",
       "      <td>21.25</td>\n",
       "      <td>130.00</td>\n",
       "      <td>7.092574</td>\n",
       "      <td>0.10960</td>\n",
       "      <td>Benign</td>\n",
       "      <td>64.713264</td>\n",
       "      <td>18.329031</td>\n",
       "      <td>0.926588</td>\n",
       "      <td>0.151462</td>\n",
       "      <td>2.776143</td>\n",
       "    </tr>\n",
       "    <tr>\n",
       "      <td>3</td>\n",
       "      <td>11.42</td>\n",
       "      <td>20.38</td>\n",
       "      <td>77.58</td>\n",
       "      <td>5.956096</td>\n",
       "      <td>0.14250</td>\n",
       "      <td>Benign</td>\n",
       "      <td>41.797168</td>\n",
       "      <td>13.025310</td>\n",
       "      <td>0.560353</td>\n",
       "      <td>0.147203</td>\n",
       "      <td>1.917363</td>\n",
       "    </tr>\n",
       "    <tr>\n",
       "      <td>4</td>\n",
       "      <td>20.29</td>\n",
       "      <td>14.34</td>\n",
       "      <td>135.10</td>\n",
       "      <td>7.167809</td>\n",
       "      <td>0.10030</td>\n",
       "      <td>Benign</td>\n",
       "      <td>71.463701</td>\n",
       "      <td>18.848158</td>\n",
       "      <td>1.414923</td>\n",
       "      <td>0.150185</td>\n",
       "      <td>2.830712</td>\n",
       "    </tr>\n",
       "  </tbody>\n",
       "</table>\n",
       "</div>"
      ],
      "text/plain": [
       "   mean_radius  mean_texture  mean_perimeter  mean_area  mean_smoothness  \\\n",
       "0        17.99         10.38          122.80   6.908755          0.11840   \n",
       "1        20.57         17.77          132.90   7.189922          0.08474   \n",
       "2        19.69         21.25          130.00   7.092574          0.10960   \n",
       "3        11.42         20.38           77.58   5.956096          0.14250   \n",
       "4        20.29         14.34          135.10   7.167809          0.10030   \n",
       "\n",
       "  diagnosis  area_smoothness_ratio  perimeter_texture_ratio  \\\n",
       "0    Benign              58.350969                17.774549   \n",
       "1    Benign              84.846851                18.484206   \n",
       "2    Benign              64.713264                18.329031   \n",
       "3    Benign              41.797168                13.025310   \n",
       "4    Benign              71.463701                18.848158   \n",
       "\n",
       "   mean_texture_radius_ratio  mean_radius_perimeter_ratio  \\\n",
       "0                   1.733141                     0.146498   \n",
       "1                   1.157569                     0.154778   \n",
       "2                   0.926588                     0.151462   \n",
       "3                   0.560353                     0.147203   \n",
       "4                   1.414923                     0.150185   \n",
       "\n",
       "   mean_radius_area_ratio  \n",
       "0                2.603942  \n",
       "1                2.860949  \n",
       "2                2.776143  \n",
       "3                1.917363  \n",
       "4                2.830712  "
      ]
     },
     "execution_count": 19,
     "metadata": {},
     "output_type": "execute_result"
    }
   ],
   "source": [
    "df.head()"
   ]
  },
  {
   "cell_type": "markdown",
   "metadata": {},
   "source": [
    "Finding the correlation of the numerical columns"
   ]
  },
  {
   "cell_type": "markdown",
   "metadata": {},
   "source": [
    "### Insight Drawn:"
   ]
  },
  {
   "cell_type": "markdown",
   "metadata": {},
   "source": [
    "##### Features  that are highly correlated with each other proves that they do the same thing hence one of them is redundant.\n",
    "##### Later on in the analysis we will implement Recursive feature elimination  do deal with that statistical problem"
   ]
  },
  {
   "cell_type": "markdown",
   "metadata": {},
   "source": [
    "## 4- Exploratory Data Analysis\n",
    "We will visualize (with the help of bars,scatter etc), and inteprate the hidden information behind the rows and columns.\n",
    "This step is very important step, and usually done after feature engineering and acquiring the data. Must be done any ML modelling.***EDA*** will help data scientists, to understand the data and not make assumptions.\n",
    "\n",
    ">There are two approaches used to examine the data at hand:\n",
    "\n",
    ">*Descriptive analysis-simply helps in finding the characteristics of numeric features of the datset.Typical examples are mean,mode,standard deviation.\n",
    "\n",
    ">2-Visualizing - simply helps in projected the data into abstract images. These projected images help in drawing insights,preprocessing and modelling. Goes a long way in simplifying most of the steps in the analysis."
   ]
  },
  {
   "cell_type": "markdown",
   "metadata": {},
   "source": [
    "## Descriptive Statisics\n",
    "> Statistical measurement summary to describe the data.In the field of descriptive statistics there are many summary measurements."
   ]
  },
  {
   "cell_type": "markdown",
   "metadata": {},
   "source": [
    "### Baisc Descriptive statistics"
   ]
  },
  {
   "cell_type": "code",
   "execution_count": 20,
   "metadata": {},
   "outputs": [
    {
     "data": {
      "text/html": [
       "<div>\n",
       "<style scoped>\n",
       "    .dataframe tbody tr th:only-of-type {\n",
       "        vertical-align: middle;\n",
       "    }\n",
       "\n",
       "    .dataframe tbody tr th {\n",
       "        vertical-align: top;\n",
       "    }\n",
       "\n",
       "    .dataframe thead th {\n",
       "        text-align: right;\n",
       "    }\n",
       "</style>\n",
       "<table border=\"1\" class=\"dataframe\">\n",
       "  <thead>\n",
       "    <tr style=\"text-align: right;\">\n",
       "      <th></th>\n",
       "      <th>mean_radius</th>\n",
       "      <th>mean_texture</th>\n",
       "      <th>mean_perimeter</th>\n",
       "      <th>mean_area</th>\n",
       "      <th>mean_smoothness</th>\n",
       "      <th>area_smoothness_ratio</th>\n",
       "      <th>perimeter_texture_ratio</th>\n",
       "      <th>mean_texture_radius_ratio</th>\n",
       "      <th>mean_radius_perimeter_ratio</th>\n",
       "      <th>mean_radius_area_ratio</th>\n",
       "    </tr>\n",
       "  </thead>\n",
       "  <tbody>\n",
       "    <tr>\n",
       "      <td>count</td>\n",
       "      <td>569.000000</td>\n",
       "      <td>569.000000</td>\n",
       "      <td>569.000000</td>\n",
       "      <td>569.000000</td>\n",
       "      <td>569.000000</td>\n",
       "      <td>569.000000</td>\n",
       "      <td>569.000000</td>\n",
       "      <td>569.000000</td>\n",
       "      <td>569.000000</td>\n",
       "      <td>569.000000</td>\n",
       "    </tr>\n",
       "    <tr>\n",
       "      <td>mean</td>\n",
       "      <td>14.127292</td>\n",
       "      <td>19.289649</td>\n",
       "      <td>91.969033</td>\n",
       "      <td>6.363185</td>\n",
       "      <td>0.096360</td>\n",
       "      <td>67.324998</td>\n",
       "      <td>14.258217</td>\n",
       "      <td>0.755014</td>\n",
       "      <td>0.154148</td>\n",
       "      <td>2.192359</td>\n",
       "    </tr>\n",
       "    <tr>\n",
       "      <td>std</td>\n",
       "      <td>3.524049</td>\n",
       "      <td>4.301036</td>\n",
       "      <td>24.298981</td>\n",
       "      <td>0.483139</td>\n",
       "      <td>0.014064</td>\n",
       "      <td>10.204782</td>\n",
       "      <td>2.617447</td>\n",
       "      <td>0.201563</td>\n",
       "      <td>0.003067</td>\n",
       "      <td>0.370687</td>\n",
       "    </tr>\n",
       "    <tr>\n",
       "      <td>min</td>\n",
       "      <td>6.981000</td>\n",
       "      <td>9.710000</td>\n",
       "      <td>43.790000</td>\n",
       "      <td>4.966335</td>\n",
       "      <td>0.052630</td>\n",
       "      <td>33.759164</td>\n",
       "      <td>8.817367</td>\n",
       "      <td>0.302319</td>\n",
       "      <td>0.140431</td>\n",
       "      <td>1.405664</td>\n",
       "    </tr>\n",
       "    <tr>\n",
       "      <td>25%</td>\n",
       "      <td>11.700000</td>\n",
       "      <td>16.170000</td>\n",
       "      <td>75.170000</td>\n",
       "      <td>6.040969</td>\n",
       "      <td>0.086370</td>\n",
       "      <td>59.721796</td>\n",
       "      <td>12.443684</td>\n",
       "      <td>0.617377</td>\n",
       "      <td>0.152385</td>\n",
       "      <td>1.937999</td>\n",
       "    </tr>\n",
       "    <tr>\n",
       "      <td>50%</td>\n",
       "      <td>13.370000</td>\n",
       "      <td>18.840000</td>\n",
       "      <td>86.240000</td>\n",
       "      <td>6.311916</td>\n",
       "      <td>0.095870</td>\n",
       "      <td>67.112906</td>\n",
       "      <td>13.692412</td>\n",
       "      <td>0.730360</td>\n",
       "      <td>0.154586</td>\n",
       "      <td>2.116758</td>\n",
       "    </tr>\n",
       "    <tr>\n",
       "      <td>75%</td>\n",
       "      <td>15.780000</td>\n",
       "      <td>21.800000</td>\n",
       "      <td>104.100000</td>\n",
       "      <td>6.662749</td>\n",
       "      <td>0.105300</td>\n",
       "      <td>73.863901</td>\n",
       "      <td>15.684856</td>\n",
       "      <td>0.873971</td>\n",
       "      <td>0.156447</td>\n",
       "      <td>2.377450</td>\n",
       "    </tr>\n",
       "    <tr>\n",
       "      <td>max</td>\n",
       "      <td>28.110000</td>\n",
       "      <td>39.280000</td>\n",
       "      <td>188.500000</td>\n",
       "      <td>7.824446</td>\n",
       "      <td>0.163400</td>\n",
       "      <td>100.324130</td>\n",
       "      <td>24.093626</td>\n",
       "      <td>1.733141</td>\n",
       "      <td>0.161937</td>\n",
       "      <td>3.592954</td>\n",
       "    </tr>\n",
       "  </tbody>\n",
       "</table>\n",
       "</div>"
      ],
      "text/plain": [
       "       mean_radius  mean_texture  mean_perimeter   mean_area  mean_smoothness  \\\n",
       "count   569.000000    569.000000      569.000000  569.000000       569.000000   \n",
       "mean     14.127292     19.289649       91.969033    6.363185         0.096360   \n",
       "std       3.524049      4.301036       24.298981    0.483139         0.014064   \n",
       "min       6.981000      9.710000       43.790000    4.966335         0.052630   \n",
       "25%      11.700000     16.170000       75.170000    6.040969         0.086370   \n",
       "50%      13.370000     18.840000       86.240000    6.311916         0.095870   \n",
       "75%      15.780000     21.800000      104.100000    6.662749         0.105300   \n",
       "max      28.110000     39.280000      188.500000    7.824446         0.163400   \n",
       "\n",
       "       area_smoothness_ratio  perimeter_texture_ratio  \\\n",
       "count             569.000000               569.000000   \n",
       "mean               67.324998                14.258217   \n",
       "std                10.204782                 2.617447   \n",
       "min                33.759164                 8.817367   \n",
       "25%                59.721796                12.443684   \n",
       "50%                67.112906                13.692412   \n",
       "75%                73.863901                15.684856   \n",
       "max               100.324130                24.093626   \n",
       "\n",
       "       mean_texture_radius_ratio  mean_radius_perimeter_ratio  \\\n",
       "count                 569.000000                   569.000000   \n",
       "mean                    0.755014                     0.154148   \n",
       "std                     0.201563                     0.003067   \n",
       "min                     0.302319                     0.140431   \n",
       "25%                     0.617377                     0.152385   \n",
       "50%                     0.730360                     0.154586   \n",
       "75%                     0.873971                     0.156447   \n",
       "max                     1.733141                     0.161937   \n",
       "\n",
       "       mean_radius_area_ratio  \n",
       "count              569.000000  \n",
       "mean                 2.192359  \n",
       "std                  0.370687  \n",
       "min                  1.405664  \n",
       "25%                  1.937999  \n",
       "50%                  2.116758  \n",
       "75%                  2.377450  \n",
       "max                  3.592954  "
      ]
     },
     "execution_count": 20,
     "metadata": {},
     "output_type": "execute_result"
    }
   ],
   "source": [
    "df.describe()"
   ]
  },
  {
   "cell_type": "code",
   "execution_count": 21,
   "metadata": {},
   "outputs": [
    {
     "data": {
      "text/plain": [
       "Malignant    357\n",
       "Benign       212\n",
       "Name: diagnosis, dtype: int64"
      ]
     },
     "execution_count": 21,
     "metadata": {},
     "output_type": "execute_result"
    }
   ],
   "source": [
    "df.diagnosis.value_counts()"
   ]
  },
  {
   "cell_type": "code",
   "execution_count": 22,
   "metadata": {},
   "outputs": [
    {
     "data": {
      "text/plain": [
       "mean_radius                    0.942380\n",
       "mean_texture                   0.650450\n",
       "mean_perimeter                 0.990650\n",
       "mean_area                      0.284957\n",
       "mean_smoothness                0.456324\n",
       "area_smoothness_ratio          0.201848\n",
       "perimeter_texture_ratio        0.889737\n",
       "mean_texture_radius_ratio      0.748727\n",
       "mean_radius_perimeter_ratio   -0.816824\n",
       "mean_radius_area_ratio         0.842981\n",
       "dtype: float64"
      ]
     },
     "execution_count": 22,
     "metadata": {},
     "output_type": "execute_result"
    }
   ],
   "source": [
    "df.skew()"
   ]
  },
  {
   "cell_type": "code",
   "execution_count": 23,
   "metadata": {},
   "outputs": [
    {
     "data": {
      "text/html": [
       "<div>\n",
       "<style scoped>\n",
       "    .dataframe tbody tr th:only-of-type {\n",
       "        vertical-align: middle;\n",
       "    }\n",
       "\n",
       "    .dataframe tbody tr th {\n",
       "        vertical-align: top;\n",
       "    }\n",
       "\n",
       "    .dataframe thead th {\n",
       "        text-align: right;\n",
       "    }\n",
       "</style>\n",
       "<table border=\"1\" class=\"dataframe\">\n",
       "  <thead>\n",
       "    <tr style=\"text-align: right;\">\n",
       "      <th></th>\n",
       "      <th># of observations</th>\n",
       "    </tr>\n",
       "    <tr>\n",
       "      <th>diagnosis</th>\n",
       "      <th></th>\n",
       "    </tr>\n",
       "  </thead>\n",
       "  <tbody>\n",
       "    <tr>\n",
       "      <td>Benign</td>\n",
       "      <td>212</td>\n",
       "    </tr>\n",
       "    <tr>\n",
       "      <td>Malignant</td>\n",
       "      <td>357</td>\n",
       "    </tr>\n",
       "  </tbody>\n",
       "</table>\n",
       "</div>"
      ],
      "text/plain": [
       "           # of observations\n",
       "diagnosis                   \n",
       "Benign                   212\n",
       "Malignant                357"
      ]
     },
     "execution_count": 23,
     "metadata": {},
     "output_type": "execute_result"
    }
   ],
   "source": [
    "diag_gr = df.groupby('diagnosis', axis=0)\n",
    "pd.DataFrame(diag_gr.size(), columns=['# of observations'])"
   ]
  },
  {
   "cell_type": "markdown",
   "metadata": {},
   "source": [
    "## Unimodal Data Visualization\n",
    "The main reason for the visualization is to observe which features are helpful in the predictive analysis.\n",
    "We will apply two techniques to understand the data;\n",
    "* Histograms\n",
    "* Density Plots"
   ]
  },
  {
   "cell_type": "code",
   "execution_count": 24,
   "metadata": {},
   "outputs": [
    {
     "data": {
      "text/plain": [
       "<matplotlib.axes._subplots.AxesSubplot at 0x1be5525d488>"
      ]
     },
     "execution_count": 24,
     "metadata": {},
     "output_type": "execute_result"
    },
    {
     "data": {
      "image/png": "[encoded data removed]",
      "text/plain": [
       "<Figure size 432x288 with 1 Axes>"
      ]
     },
     "metadata": {
      "needs_background": "light"
     },
     "output_type": "display_data"
    }
   ],
   "source": [
    "import seaborn as sns\n",
    "sns.countplot(x=\"diagnosis\" ,data=df)"
   ]
  },
  {
   "cell_type": "markdown",
   "metadata": {},
   "source": [
    "#### This plot is showing the distribution of Benign (Non-cancerous) and Malignant(Cancerous) breast conditions."
   ]
  },
  {
   "cell_type": "markdown",
   "metadata": {},
   "source": [
    "### Visualize distribution of data via histogram\n",
    "Histograms are mostly used to visualize numerical features.\n",
    "Histograms group data into bins and provide you a count of the number of observations in each bin. From the shape of the bins you can quickly get a feeling for whether an attribute is Gaussian, skewed or even has an exponential distribution. It can also help you see possible outliers."
   ]
  },
  {
   "cell_type": "code",
   "execution_count": 25,
   "metadata": {},
   "outputs": [
    {
     "data": {
      "text/plain": [
       "array([[<matplotlib.axes._subplots.AxesSubplot object at 0x000001BE552DBD88>,\n",
       "        <matplotlib.axes._subplots.AxesSubplot object at 0x000001BE5533DA88>,\n",
       "        <matplotlib.axes._subplots.AxesSubplot object at 0x000001BE55374CC8>],\n",
       "       [<matplotlib.axes._subplots.AxesSubplot object at 0x000001BE553AF808>,\n",
       "        <matplotlib.axes._subplots.AxesSubplot object at 0x000001BE553E8448>,\n",
       "        <matplotlib.axes._subplots.AxesSubplot object at 0x000001BE55421048>],\n",
       "       [<matplotlib.axes._subplots.AxesSubplot object at 0x000001BE55456B88>,\n",
       "        <matplotlib.axes._subplots.AxesSubplot object at 0x000001BE55490B48>,\n",
       "        <matplotlib.axes._subplots.AxesSubplot object at 0x000001BE5549A748>],\n",
       "       [<matplotlib.axes._subplots.AxesSubplot object at 0x000001BE554D2908>,\n",
       "        <matplotlib.axes._subplots.AxesSubplot object at 0x000001BE55538E88>,\n",
       "        <matplotlib.axes._subplots.AxesSubplot object at 0x000001BE5556EFC8>]],\n",
       "      dtype=object)"
      ]
     },
     "execution_count": 25,
     "metadata": {},
     "output_type": "execute_result"
    },
    {
     "data": {
      "image/png": "[encoded data removed]",
      "text/plain": [
       "<Figure size 1080x1080 with 12 Axes>"
      ]
     },
     "metadata": {
      "needs_background": "light"
     },
     "output_type": "display_data"
    }
   ],
   "source": [
    "df.hist(bins=10, figsize=(15, 15),grid=False,)"
   ]
  },
  {
   "cell_type": "markdown",
   "metadata": {},
   "source": [
    "***Insights drawn:***\n",
    "   >- Most of the plots are seen to have gaussian or almost gaussian distribution.\n",
    "   >- Mean_radius_area and mean_perimeter as seen to have almost exponential distribution()."
   ]
  },
  {
   "cell_type": "code",
   "execution_count": 26,
   "metadata": {},
   "outputs": [
    {
     "data": {
      "text/plain": [
       "array([[<matplotlib.axes._subplots.AxesSubplot object at 0x000001BE55C56908>,\n",
       "        <matplotlib.axes._subplots.AxesSubplot object at 0x000001BE55D463C8>,\n",
       "        <matplotlib.axes._subplots.AxesSubplot object at 0x000001BE55722B88>],\n",
       "       [<matplotlib.axes._subplots.AxesSubplot object at 0x000001BE5575D5C8>,\n",
       "        <matplotlib.axes._subplots.AxesSubplot object at 0x000001BE55791F88>,\n",
       "        <matplotlib.axes._subplots.AxesSubplot object at 0x000001BE557CBAC8>],\n",
       "       [<matplotlib.axes._subplots.AxesSubplot object at 0x000001BE55805BC8>,\n",
       "        <matplotlib.axes._subplots.AxesSubplot object at 0x000001BE5583DCC8>,\n",
       "        <matplotlib.axes._subplots.AxesSubplot object at 0x000001BE558478C8>],\n",
       "       [<matplotlib.axes._subplots.AxesSubplot object at 0x000001BE55881A88>,\n",
       "        <matplotlib.axes._subplots.AxesSubplot object at 0x000001BE558EC088>,\n",
       "        <matplotlib.axes._subplots.AxesSubplot object at 0x000001BE559241C8>]],\n",
       "      dtype=object)"
      ]
     },
     "execution_count": 26,
     "metadata": {},
     "output_type": "execute_result"
    },
    {
     "data": {
      "image/png": "[encoded data removed]",
      "text/plain": [
       "<Figure size 1080x1080 with 12 Axes>"
      ]
     },
     "metadata": {
      "needs_background": "light"
     },
     "output_type": "display_data"
    }
   ],
   "source": [
    "df.plot(kind= 'density', subplots=True, layout=(4,3), sharex=False, \n",
    "                     sharey=False,fontsize=12, figsize=(15,15))"
   ]
  },
  {
   "cell_type": "markdown",
   "metadata": {},
   "source": [
    "## 5- Data Preprocessing\n",
    "This is an essential step for any data analysis problem.It is often a very good idea to prepare your data in such way to best expose the structure of the problem to the machine learning algorithms that you intend to use.This involves a number of activities such as:\n",
    "* Assigning numerical values to categorical data;\n",
    "* Normalizing the features (so that features on small scales do not dominate when fitting the model to data)\n",
    "\n",
    "#### Main Goal:\n",
    "Find the most predictive features of the data and filter it so it will enhance the accuracy of the ML analytics model. "
   ]
  },
  {
   "cell_type": "markdown",
   "metadata": {},
   "source": [
    ">- ####  Label Encoding"
   ]
  },
  {
   "cell_type": "markdown",
   "metadata": {},
   "source": [
    "***Here, I assign the features to a NumPy array X,and transform the class labels from their original string \n",
    "representation (Malignant and Benign) into integers.***"
   ]
  },
  {
   "cell_type": "code",
   "execution_count": 27,
   "metadata": {},
   "outputs": [],
   "source": [
    "X=df.drop(['diagnosis'],axis=1)\n",
    "Y=df.diagnosis"
   ]
  },
  {
   "cell_type": "markdown",
   "metadata": {},
   "source": [
    "***Transform the class labels from their original string representation (Malignant and Benign) into integers***"
   ]
  },
  {
   "cell_type": "code",
   "execution_count": 28,
   "metadata": {},
   "outputs": [],
   "source": [
    "from sklearn.preprocessing import LabelEncoder\n",
    "encode = LabelEncoder()\n",
    "Y = encode.fit_transform(Y)"
   ]
  },
  {
   "cell_type": "markdown",
   "metadata": {},
   "source": [
    "***After encoding the target labels(diagnosis) in an array Y, the malignant tumors are now represented as class 1\n",
    "(cancerous) and the benign tumors are represented as class 0 (non-cancerous), respectively, done by calling the \n",
    "transform method of LabelEncorder on two dummy variables.***"
   ]
  },
  {
   "cell_type": "markdown",
   "metadata": {},
   "source": [
    "#### Feature Standardization"
   ]
  },
  {
   "cell_type": "markdown",
   "metadata": {},
   "source": [
    ">-Standardization is a useful technique to transform attributes with a Gaussian distribution and differing means and standard deviations to a standard Gaussian distribution with a mean of 0 and a standard deviation of 1."
   ]
  },
  {
   "cell_type": "code",
   "execution_count": 29,
   "metadata": {},
   "outputs": [],
   "source": [
    "from sklearn.preprocessing import MinMaxScaler"
   ]
  },
  {
   "cell_type": "code",
   "execution_count": 30,
   "metadata": {},
   "outputs": [],
   "source": [
    "scaler=MinMaxScaler((-1,1))"
   ]
  },
  {
   "cell_type": "code",
   "execution_count": 31,
   "metadata": {},
   "outputs": [],
   "source": [
    "features=scaler.fit_transform(X)"
   ]
  },
  {
   "cell_type": "code",
   "execution_count": 32,
   "metadata": {},
   "outputs": [],
   "source": [
    "target=Y"
   ]
  },
  {
   "cell_type": "markdown",
   "metadata": {},
   "source": [
    "# 6- Feature Selection with Recursive Feature Elimination\n",
    "***From our EDA and analysis above we found out that some of the features are just duplicates(hence redundant).This step helps to select features that will make our analysis better and improve performance of the model.***"
   ]
  },
  {
   "cell_type": "code",
   "execution_count": 33,
   "metadata": {},
   "outputs": [],
   "source": [
    "from sklearn.feature_selection import RFE\n",
    "from sklearn.linear_model import LogisticRegression"
   ]
  },
  {
   "cell_type": "code",
   "execution_count": 34,
   "metadata": {},
   "outputs": [],
   "source": [
    "model = LogisticRegression()\n",
    "rfe = RFE(model, 5)\n",
    "fitted = rfe.fit(features,target)"
   ]
  },
  {
   "cell_type": "code",
   "execution_count": 35,
   "metadata": {},
   "outputs": [
    {
     "name": "stdout",
     "output_type": "stream",
     "text": [
      "Num Features: 5\n",
      "Selected Features: [False  True  True  True  True False  True False False False]\n",
      "Feature Ranking: [3 1 1 1 1 5 1 6 2 4]\n"
     ]
    }
   ],
   "source": [
    "print(\"Num Features:\", fitted.n_features_)\n",
    "print(\"Selected Features:\", fitted.support_)\n",
    "print(\"Feature Ranking:\", fitted.ranking_)"
   ]
  },
  {
   "cell_type": "markdown",
   "metadata": {},
   "source": [
    "> Insights drawn:\n",
    "\n",
    "It shows us that features like ***mean_radius,area_smoothness_ratio,mean_texture_radius_ratio,mean_radius_perimeter_ratio,   \n",
    "    mean_radius_area_ratio*** are redundant and hence must be dropped for analysis to take place."
   ]
  },
  {
   "cell_type": "markdown",
   "metadata": {},
   "source": [
    "## 7- Model Building using the Support Vector machine (SVM)\n",
    "SVMs are one of the most popular classification algorithms, and have an elegant way of transforming nonlinear data so that one can use a linear algorithm to fit a linear model to the data (Cortes and Vapnik 1995).\n",
    "Reasons why the algorithm is being used for the analysis:\n",
    ">- The data is structured \n",
    ">- The data has labels , hence it will need a supervised learning algorithm to build the predictive model.\n",
    ">- The problem at hand is classification based.\n",
    "\n",
    "***Important Parameters:***\n",
    "The important parameters in kernel SVMs are the\n",
    "* Regularization parameter C, \n",
    "* The choice of the kernel,(linear, radial basis function(RBF) or polynomial)\n",
    "* Kernel-specific parameters. \n",
    "\n",
    "***Gamma and C*** both control the complexity of the model, with large values in either resulting in a more complex model. Therefore, good settings for the two parameters are usually strongly correlated, and C and gamma should be adjusted together."
   ]
  },
  {
   "cell_type": "code",
   "execution_count": 38,
   "metadata": {},
   "outputs": [],
   "source": [
    "from sklearn.model_selection import train_test_split\n",
    "from sklearn.metrics import confusion_matrix,classification_report   \n",
    "from sklearn.metrics import accuracy_score\n",
    "from sklearn import svm"
   ]
  },
  {
   "cell_type": "code",
   "execution_count": 39,
   "metadata": {},
   "outputs": [],
   "source": [
    "features_train,features_test,target_train,target_test=train_test_split(features,target,test_size=0.2,random_state=101)"
   ]
  },
  {
   "cell_type": "markdown",
   "metadata": {},
   "source": [
    "***80% of the dataset is being used for training the model. This will help to get a more sophisticated model.\n",
    "20% of the dataset will be used for testing and that helps us evaluate the performance of the model.***"
   ]
  },
  {
   "cell_type": "code",
   "execution_count": 40,
   "metadata": {},
   "outputs": [],
   "source": [
    "model=svm.SVC(gamma=0.001,C=100)\n",
    "fittedModel=model.fit(features_train,target_train)\n",
    "predictions=fittedModel.predict(features_test)"
   ]
  },
  {
   "cell_type": "code",
   "execution_count": 41,
   "metadata": {},
   "outputs": [
    {
     "data": {
      "text/plain": [
       "array([[34,  8],\n",
       "       [ 3, 69]], dtype=int64)"
      ]
     },
     "execution_count": 41,
     "metadata": {},
     "output_type": "execute_result"
    }
   ],
   "source": [
    "conf_m=confusion_matrix(target_test,predictions)\n",
    "conf_m"
   ]
  },
  {
   "cell_type": "code",
   "execution_count": 42,
   "metadata": {},
   "outputs": [
    {
     "data": {
      "text/plain": [
       "<matplotlib.image.AxesImage at 0x1be564a4648>"
      ]
     },
     "execution_count": 42,
     "metadata": {},
     "output_type": "execute_result"
    },
    {
     "data": {
      "image/png": "[encoded data removed]",
      "text/plain": [
       "<Figure size 432x288 with 1 Axes>"
      ]
     },
     "metadata": {
      "needs_background": "light"
     },
     "output_type": "display_data"
    }
   ],
   "source": [
    "plt.imshow(conf_m)"
   ]
  },
  {
   "cell_type": "code",
   "execution_count": 43,
   "metadata": {},
   "outputs": [
    {
     "data": {
      "text/plain": [
       "90.35087719298247"
      ]
     },
     "execution_count": 43,
     "metadata": {},
     "output_type": "execute_result"
    }
   ],
   "source": [
    "accuracy_score(target_test,predictions)*100"
   ]
  },
  {
   "cell_type": "markdown",
   "metadata": {},
   "source": [
    "***The SVM model performed at 90.35 % accuracy. The model can do much better if the Regularizer C and gamma are fine tuned.***\n"
   ]
  },
  {
   "cell_type": "code",
   "execution_count": 44,
   "metadata": {},
   "outputs": [
    {
     "name": "stdout",
     "output_type": "stream",
     "text": [
      "\n",
      "\n",
      "              precision    recall  f1-score   support\n",
      "\n",
      "           0       0.92      0.81      0.86        42\n",
      "           1       0.90      0.96      0.93        72\n",
      "\n",
      "    accuracy                           0.90       114\n",
      "   macro avg       0.91      0.88      0.89       114\n",
      "weighted avg       0.90      0.90      0.90       114\n",
      "\n"
     ]
    }
   ],
   "source": [
    "print(\"\\n\")\n",
    "print(classification_report(target_test,predictions))"
   ]
  },
  {
   "cell_type": "markdown",
   "metadata": {},
   "source": [
    "## 8-Validating the model with k-folds\n",
    "***Using cross validation helps to ward off any instance of overfitting and underfitting in the model being built.***"
   ]
  },
  {
   "cell_type": "code",
   "execution_count": 45,
   "metadata": {},
   "outputs": [
    {
     "data": {
      "text/plain": [
       "array([0.94736842, 0.94736842, 0.89473684, 0.89473684, 0.78947368,\n",
       "       0.78947368, 0.89473684, 0.94736842, 0.89473684, 0.94736842,\n",
       "       0.94736842, 0.89473684, 0.89473684, 0.94736842, 0.94736842,\n",
       "       0.89473684, 1.        , 0.89473684, 0.94736842, 0.94736842,\n",
       "       0.89473684, 1.        , 0.94736842, 0.89473684, 1.        ,\n",
       "       0.89473684, 1.        , 0.94736842, 0.89473684, 0.88888889])"
      ]
     },
     "execution_count": 45,
     "metadata": {},
     "output_type": "execute_result"
    }
   ],
   "source": [
    "from sklearn.model_selection import cross_val_score\n",
    "cross_val_score(model,features,target, cv=30)"
   ]
  },
  {
   "cell_type": "code",
   "execution_count": null,
   "metadata": {},
   "outputs": [],
   "source": []
  },
  {
   "cell_type": "markdown",
   "metadata": {},
   "source": [
    "### Model Deployment as an API"
   ]
  },
  {
   "cell_type": "code",
   "execution_count": null,
   "metadata": {},
   "outputs": [],
   "source": []
  }
 ],
 "metadata": {
  "kernelspec": {
   "display_name": "Python 3",
   "language": "python",
   "name": "python3"
  },
  "language_info": {
   "codemirror_mode": {
    "name": "ipython",
    "version": 3
   },
   "file_extension": ".py",
   "mimetype": "text/x-python",
   "name": "python",
   "nbconvert_exporter": "python",
   "pygments_lexer": "ipython3",
   "version": "3.7.4"
  }
 },
 "nbformat": 4,
 "nbformat_minor": 2
}
